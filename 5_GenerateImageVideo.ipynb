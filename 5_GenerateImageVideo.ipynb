{
 "cells": [
  {
   "cell_type": "markdown",
   "id": "0faa3cf8-3bb8-4411-9fdb-7ff9a34d384f",
   "metadata": {},
   "source": [
    "# Generate Video Based On GAN Generated Images"
   ]
  },
  {
   "cell_type": "code",
   "execution_count": 24,
   "id": "96c10ab7-d7ee-43f4-9e34-525e58791592",
   "metadata": {},
   "outputs": [],
   "source": [
    "# pip install moviepy"
   ]
  },
  {
   "cell_type": "code",
   "execution_count": 1,
   "id": "d36b8d30-bb27-441f-b5a9-5425158753ff",
   "metadata": {},
   "outputs": [],
   "source": [
    "# !pip install opencv-python"
   ]
  },
  {
   "cell_type": "code",
   "execution_count": 2,
   "id": "328f802d-26b4-4605-9a53-e8fb029952c1",
   "metadata": {},
   "outputs": [],
   "source": [
    "import cv2\n",
    "import os\n",
    "\n",
    "input_dir = 'generated_images_GAN'\n",
    "\n",
    "output_file = 'generated_video/video.avi'\n",
    "\n",
    "frame_rate = 68\n",
    "\n",
    "image_files = os.listdir(input_dir)\n",
    "\n",
    "first_image = cv2.imread(os.path.join(input_dir, image_files[0]))\n",
    "if first_image is None:\n",
    "    raise ValueError(\"Unable to load the first image\")\n",
    "\n",
    "height, width, _ = first_image.shape\n",
    "\n",
    "fourcc = cv2.VideoWriter_fourcc(*'XVID')\n",
    "video_writer = cv2.VideoWriter(output_file, fourcc, frame_rate, (width, height))\n",
    "\n",
    "for i in range(len(image_files)-1):\n",
    "    # Read the current and next image\n",
    "    image1 = cv2.imread(os.path.join(input_dir, image_files[i]))\n",
    "    image2 = cv2.imread(os.path.join(input_dir, image_files[i+1]))\n",
    "\n",
    "    if image1 is None or image2 is None:\n",
    "        print(f\"Unable to load image at index {i}\")\n",
    "        continue\n",
    "\n",
    "    # Resize the images to a larger size for smoother interpolation\n",
    "    scale = 10 #\n",
    "    resized_image1 = cv2.resize(image1, (width*scale, height*scale))\n",
    "    resized_image2 = cv2.resize(image2, (width*scale, height*scale))\n",
    "\n",
    "    \n",
    "    alpha = 0.9 \n",
    "    interpolated_image = cv2.addWeighted(resized_image1, 1 - alpha, resized_image2, alpha, 0)\n",
    "\n",
    "    # Resize the interpolated image back to the original size\n",
    "    interpolated_image = cv2.resize(interpolated_image, (width, height))\n",
    "\n",
    "    # Write the interpolated frame to the video multiple times for smoother transition\n",
    "    num_frames = 68 # Number of frames per interpolation (adjust as needed)\n",
    "    for _ in range(num_frames):\n",
    "        video_writer.write(interpolated_image)\n",
    "\n",
    "video_writer.release()\n"
   ]
  },
  {
   "cell_type": "code",
   "execution_count": null,
   "id": "45a50b32-1cb5-4857-a314-68932c7b13a0",
   "metadata": {},
   "outputs": [],
   "source": []
  }
 ],
 "metadata": {
  "kernelspec": {
   "display_name": "tf",
   "language": "python",
   "name": "tf"
  },
  "language_info": {
   "codemirror_mode": {
    "name": "ipython",
    "version": 3
   },
   "file_extension": ".py",
   "mimetype": "text/x-python",
   "name": "python",
   "nbconvert_exporter": "python",
   "pygments_lexer": "ipython3",
   "version": "3.9.16"
  }
 },
 "nbformat": 4,
 "nbformat_minor": 5
}
